{
 "cells": [
  {
   "cell_type": "code",
   "execution_count": 100,
   "metadata": {
    "id": "HjVN1PsY_a22"
   },
   "outputs": [],
   "source": [
    "import pandas as pd\n",
    "import numpy as np\n",
    "import nltk\n",
    "import re\n",
    "\n",
    "from nltk.sentiment import SentimentIntensityAnalyzer\n",
    "from bs4 import BeautifulSoup\n",
    "from nltk.corpus import stopwords\n",
    "from nltk.tokenize.toktok import ToktokTokenizer\n",
    "from nltk.stem.porter import PorterStemmer\n",
    "from nltk.sentiment import SentimentIntensityAnalyzer\n",
    "from sklearn.feature_extraction.text import CountVectorizer\n",
    "from sklearn.feature_extraction.text import TfidfVectorizer\n",
    "from sklearn.model_selection import train_test_split\n",
    "from sklearn.linear_model import LogisticRegression\n",
    "from sklearn.tree import DecisionTreeClassifier\n",
    "from sklearn.ensemble import RandomForestClassifier\n",
    "from sklearn.metrics import classification_report, confusion_matrix, accuracy_score\n",
    "from sklearn.model_selection import GridSearchCV\n",
    "from sklearn.base import BaseEstimator\n",
    "from sklearn.model_selection import RepeatedStratifiedKFold\n",
    "from sklearn.model_selection import RandomizedSearchCV"
   ]
  },
  {
   "cell_type": "code",
   "execution_count": 78,
   "metadata": {
    "colab": {
     "base_uri": "https://localhost:8080/"
    },
    "id": "YU5CnfjIOyx2",
    "outputId": "a14e95aa-4241-478e-b3d2-0dda8f0759ff"
   },
   "outputs": [
    {
     "name": "stderr",
     "output_type": "stream",
     "text": [
      "[nltk_data] Downloading package stopwords to C:\\Users\\Leandro\n",
      "[nltk_data]     Starke\\AppData\\Roaming\\nltk_data...\n",
      "[nltk_data]   Package stopwords is already up-to-date!\n",
      "[nltk_data] Downloading package vader_lexicon to C:\\Users\\Leandro\n",
      "[nltk_data]     Starke\\AppData\\Roaming\\nltk_data...\n",
      "[nltk_data]   Package vader_lexicon is already up-to-date!\n",
      "[nltk_data] Downloading package punkt to C:\\Users\\Leandro\n",
      "[nltk_data]     Starke\\AppData\\Roaming\\nltk_data...\n",
      "[nltk_data]   Package punkt is already up-to-date!\n"
     ]
    },
    {
     "data": {
      "text/plain": [
       "True"
      ]
     },
     "execution_count": 78,
     "metadata": {},
     "output_type": "execute_result"
    }
   ],
   "source": [
    "nltk.download('stopwords')\n",
    "nltk.download('vader_lexicon')\n",
    "nltk.download('punkt')"
   ]
  },
  {
   "cell_type": "code",
   "execution_count": 79,
   "metadata": {
    "colab": {
     "base_uri": "https://localhost:8080/",
     "height": 204
    },
    "id": "wIR5gI5M_zuX",
    "outputId": "5626d16a-74ee-42a6-85bb-d17a1e1613bb"
   },
   "outputs": [
    {
     "data": {
      "text/html": [
       "<div>\n",
       "<style scoped>\n",
       "    .dataframe tbody tr th:only-of-type {\n",
       "        vertical-align: middle;\n",
       "    }\n",
       "\n",
       "    .dataframe tbody tr th {\n",
       "        vertical-align: top;\n",
       "    }\n",
       "\n",
       "    .dataframe thead th {\n",
       "        text-align: right;\n",
       "    }\n",
       "</style>\n",
       "<table border=\"1\" class=\"dataframe\">\n",
       "  <thead>\n",
       "    <tr style=\"text-align: right;\">\n",
       "      <th></th>\n",
       "      <th>review,sentiment</th>\n",
       "      <th>Unnamed: 1</th>\n",
       "      <th>Unnamed: 2</th>\n",
       "      <th>Unnamed: 3</th>\n",
       "      <th>Unnamed: 4</th>\n",
       "      <th>Unnamed: 5</th>\n",
       "      <th>Unnamed: 6</th>\n",
       "    </tr>\n",
       "  </thead>\n",
       "  <tbody>\n",
       "    <tr>\n",
       "      <th>0</th>\n",
       "      <td>One of the other reviewers has mentioned that ...</td>\n",
       "      <td>NaN</td>\n",
       "      <td>NaN</td>\n",
       "      <td>NaN</td>\n",
       "      <td>NaN</td>\n",
       "      <td>NaN</td>\n",
       "      <td>NaN</td>\n",
       "    </tr>\n",
       "    <tr>\n",
       "      <th>1</th>\n",
       "      <td>A wonderful little production. &lt;br /&gt;&lt;br /&gt;The...</td>\n",
       "      <td>NaN</td>\n",
       "      <td>NaN</td>\n",
       "      <td>NaN</td>\n",
       "      <td>NaN</td>\n",
       "      <td>NaN</td>\n",
       "      <td>NaN</td>\n",
       "    </tr>\n",
       "    <tr>\n",
       "      <th>2</th>\n",
       "      <td>I thought this was a wonderful way to spend ti...</td>\n",
       "      <td>NaN</td>\n",
       "      <td>NaN</td>\n",
       "      <td>NaN</td>\n",
       "      <td>NaN</td>\n",
       "      <td>NaN</td>\n",
       "      <td>NaN</td>\n",
       "    </tr>\n",
       "    <tr>\n",
       "      <th>3</th>\n",
       "      <td>Basically there's a family where a little boy ...</td>\n",
       "      <td>NaN</td>\n",
       "      <td>NaN</td>\n",
       "      <td>NaN</td>\n",
       "      <td>NaN</td>\n",
       "      <td>NaN</td>\n",
       "      <td>NaN</td>\n",
       "    </tr>\n",
       "    <tr>\n",
       "      <th>4</th>\n",
       "      <td>Petter Mattei's \"Love in the Time of Money\" is...</td>\n",
       "      <td>NaN</td>\n",
       "      <td>NaN</td>\n",
       "      <td>NaN</td>\n",
       "      <td>NaN</td>\n",
       "      <td>NaN</td>\n",
       "      <td>NaN</td>\n",
       "    </tr>\n",
       "  </tbody>\n",
       "</table>\n",
       "</div>"
      ],
      "text/plain": [
       "                                    review,sentiment Unnamed: 1 Unnamed: 2  \\\n",
       "0  One of the other reviewers has mentioned that ...        NaN        NaN   \n",
       "1  A wonderful little production. <br /><br />The...        NaN        NaN   \n",
       "2  I thought this was a wonderful way to spend ti...        NaN        NaN   \n",
       "3  Basically there's a family where a little boy ...        NaN        NaN   \n",
       "4  Petter Mattei's \"Love in the Time of Money\" is...        NaN        NaN   \n",
       "\n",
       "  Unnamed: 3 Unnamed: 4 Unnamed: 5 Unnamed: 6  \n",
       "0        NaN        NaN        NaN        NaN  \n",
       "1        NaN        NaN        NaN        NaN  \n",
       "2        NaN        NaN        NaN        NaN  \n",
       "3        NaN        NaN        NaN        NaN  \n",
       "4        NaN        NaN        NaN        NaN  "
      ]
     },
     "execution_count": 79,
     "metadata": {},
     "output_type": "execute_result"
    }
   ],
   "source": [
    "df = pd.read_csv('imdb.csv', sep=';')\n",
    "df.head()"
   ]
  },
  {
   "cell_type": "code",
   "execution_count": 80,
   "metadata": {
    "id": "Y4ucoWLnXn3X"
   },
   "outputs": [],
   "source": [
    "def get_sentiment(x: str) -> int:\n",
    "\n",
    "  comma_pos = x.rfind(',') + 1\n",
    "\n",
    "  if x[comma_pos::] == 'positive':\n",
    "    return 1\n",
    "  elif x[comma_pos::] == 'negative':\n",
    "    return 0\n",
    "\n",
    "df['sentiment'] = df['review,sentiment'].apply(get_sentiment)"
   ]
  },
  {
   "cell_type": "code",
   "execution_count": 81,
   "metadata": {
    "id": "X4hC13RaZLR0"
   },
   "outputs": [],
   "source": [
    "def get_review(x: str) -> int:\n",
    "  comma_pos = x.rfind(',')\n",
    "  return x[0:comma_pos]\n",
    "\n",
    "df['review'] = df['review,sentiment'].apply(get_review)"
   ]
  },
  {
   "cell_type": "code",
   "execution_count": 82,
   "metadata": {
    "colab": {
     "base_uri": "https://localhost:8080/",
     "height": 204
    },
    "id": "1TQfsSwmXn0w",
    "outputId": "2f2ed05e-88d5-4067-9204-0a9c07616348"
   },
   "outputs": [
    {
     "data": {
      "text/html": [
       "<div>\n",
       "<style scoped>\n",
       "    .dataframe tbody tr th:only-of-type {\n",
       "        vertical-align: middle;\n",
       "    }\n",
       "\n",
       "    .dataframe tbody tr th {\n",
       "        vertical-align: top;\n",
       "    }\n",
       "\n",
       "    .dataframe thead th {\n",
       "        text-align: right;\n",
       "    }\n",
       "</style>\n",
       "<table border=\"1\" class=\"dataframe\">\n",
       "  <thead>\n",
       "    <tr style=\"text-align: right;\">\n",
       "      <th></th>\n",
       "      <th>review</th>\n",
       "      <th>sentiment</th>\n",
       "    </tr>\n",
       "  </thead>\n",
       "  <tbody>\n",
       "    <tr>\n",
       "      <th>0</th>\n",
       "      <td>One of the other reviewers has mentioned that ...</td>\n",
       "      <td>1.0</td>\n",
       "    </tr>\n",
       "    <tr>\n",
       "      <th>1</th>\n",
       "      <td>A wonderful little production. &lt;br /&gt;&lt;br /&gt;The...</td>\n",
       "      <td>1.0</td>\n",
       "    </tr>\n",
       "    <tr>\n",
       "      <th>2</th>\n",
       "      <td>I thought this was a wonderful way to spend ti...</td>\n",
       "      <td>1.0</td>\n",
       "    </tr>\n",
       "    <tr>\n",
       "      <th>3</th>\n",
       "      <td>Basically there's a family where a little boy ...</td>\n",
       "      <td>0.0</td>\n",
       "    </tr>\n",
       "    <tr>\n",
       "      <th>4</th>\n",
       "      <td>Petter Mattei's \"Love in the Time of Money\" is...</td>\n",
       "      <td>1.0</td>\n",
       "    </tr>\n",
       "  </tbody>\n",
       "</table>\n",
       "</div>"
      ],
      "text/plain": [
       "                                              review  sentiment\n",
       "0  One of the other reviewers has mentioned that ...        1.0\n",
       "1  A wonderful little production. <br /><br />The...        1.0\n",
       "2  I thought this was a wonderful way to spend ti...        1.0\n",
       "3  Basically there's a family where a little boy ...        0.0\n",
       "4  Petter Mattei's \"Love in the Time of Money\" is...        1.0"
      ]
     },
     "execution_count": 82,
     "metadata": {},
     "output_type": "execute_result"
    }
   ],
   "source": [
    "df = df[['review', 'sentiment']]\n",
    "df.head()"
   ]
  },
  {
   "cell_type": "code",
   "execution_count": 83,
   "metadata": {
    "colab": {
     "base_uri": "https://localhost:8080/"
    },
    "id": "sc_Ly5rjXnye",
    "outputId": "1fae2136-c420-498f-b8d0-07117395760c"
   },
   "outputs": [
    {
     "data": {
      "text/plain": [
       "(50000, 2)"
      ]
     },
     "execution_count": 83,
     "metadata": {},
     "output_type": "execute_result"
    }
   ],
   "source": [
    "df.shape"
   ]
  },
  {
   "cell_type": "code",
   "execution_count": 84,
   "metadata": {
    "colab": {
     "base_uri": "https://localhost:8080/"
    },
    "id": "-Yt70T64Xnv1",
    "outputId": "36290067-5f02-4cc6-f90d-582b4da9c60c"
   },
   "outputs": [
    {
     "data": {
      "text/plain": [
       "1.0    24978\n",
       "0.0    24977\n",
       "Name: sentiment, dtype: int64"
      ]
     },
     "execution_count": 84,
     "metadata": {},
     "output_type": "execute_result"
    }
   ],
   "source": [
    "df.sentiment.value_counts()"
   ]
  },
  {
   "cell_type": "code",
   "execution_count": 85,
   "metadata": {},
   "outputs": [
    {
     "data": {
      "text/plain": [
       "review        0\n",
       "sentiment    45\n",
       "dtype: int64"
      ]
     },
     "execution_count": 85,
     "metadata": {},
     "output_type": "execute_result"
    }
   ],
   "source": [
    "df.isna().sum()"
   ]
  },
  {
   "cell_type": "code",
   "execution_count": 86,
   "metadata": {},
   "outputs": [],
   "source": [
    "# removing nulls\n",
    "df = df[~df.sentiment.isnull()]"
   ]
  },
  {
   "cell_type": "code",
   "execution_count": 87,
   "metadata": {
    "id": "POL_z1FtXntp"
   },
   "outputs": [],
   "source": [
    "def remove_html_tags(text):\n",
    "  soup = BeautifulSoup(text, \"html.parser\")\n",
    "  return soup.get_text()\n",
    "\n",
    "df.review = df.review.apply(remove_html_tags)\n",
    "\n",
    "def remove_square_brackets(text):\n",
    "  return re.sub('\\[[^]]*\\]', '', text)    \n",
    "\n",
    "df.review = df.review.apply(remove_square_brackets)   \n",
    "\n",
    "def remove_special_characters(text):\n",
    "  pattern=r'[^a-zA-z0-9\\s]'\n",
    "  text=re.sub(pattern,'',text)\n",
    "  return text \n",
    "    \n",
    "df.review = df.review.apply(remove_special_characters)\n",
    "\n",
    "def stemm(text):\n",
    "    ps=nltk.porter.PorterStemmer()\n",
    "    text= ' '.join([ps.stem(word) for word in text.split()])\n",
    "    return text\n",
    "  \n",
    "df.review = df.review.apply(stemm)\n",
    "\n",
    "tokenizer=ToktokTokenizer()\n",
    "stopwords_list=stopwords.words('english')\n",
    "def remove_stopwords(text):\n",
    "  tokens = tokenizer.tokenize(text)\n",
    "  tokens = [token.strip() for token in tokens]\n",
    "  tokens_without_stopwords = [token for token in tokens if token.lower() not in stopwords_list]\n",
    "  return ' '.join(tokens_without_stopwords)\n",
    "\n",
    "df.review = df.review.apply(remove_stopwords)"
   ]
  },
  {
   "cell_type": "code",
   "execution_count": 88,
   "metadata": {},
   "outputs": [
    {
     "name": "stdout",
     "output_type": "stream",
     "text": [
      "(44959,) (4996,) (44959,) (4996,)\n"
     ]
    }
   ],
   "source": [
    "x_train, x_test, y_train, y_test = train_test_split(df.review, df.sentiment, test_size=0.1, random_state=42)\n",
    "print(x_train.shape, x_test.shape, y_train.shape, y_test.shape)"
   ]
  },
  {
   "cell_type": "markdown",
   "metadata": {},
   "source": [
    "### Calculating SentimentIntensityAnalyzer() Accuracy"
   ]
  },
  {
   "cell_type": "code",
   "execution_count": 89,
   "metadata": {},
   "outputs": [
    {
     "data": {
      "text/plain": [
       "0.6563250600480385"
      ]
     },
     "execution_count": 89,
     "metadata": {},
     "output_type": "execute_result"
    }
   ],
   "source": [
    "sia = SentimentIntensityAnalyzer()\n",
    "\n",
    "sia_prediction = []\n",
    "for index, row in x_test.iteritems():\n",
    "    sentiment = 0.0\n",
    "    if sia.polarity_scores(row)['compound'] > 0:\n",
    "        sentiment = 1.0\n",
    "    sia_prediction.append(sentiment)\n",
    "accuracy_score(y_test,sia_pred)"
   ]
  },
  {
   "cell_type": "markdown",
   "metadata": {},
   "source": [
    "### Bag of Words"
   ]
  },
  {
   "cell_type": "code",
   "execution_count": 90,
   "metadata": {
    "id": "Ow42YXV2ayUH"
   },
   "outputs": [],
   "source": [
    "cv = CountVectorizer(min_df=0, max_df=1, binary=False, ngram_range=(1,3))\n",
    "x_train_vectorized = cv.fit_transform(x_train)\n",
    "x_test_vectorized = cv.transform(x_test)\n",
    "\n",
    "tv=TfidfVectorizer(min_df=0,max_df=1,use_idf=True,ngram_range=(1,3))\n",
    "x_train_tv=tv.fit_transform(x_train)\n",
    "x_test_tv=tv.transform(x_test)"
   ]
  },
  {
   "cell_type": "markdown",
   "metadata": {},
   "source": [
    "### Modeling"
   ]
  },
  {
   "cell_type": "code",
   "execution_count": 92,
   "metadata": {
    "id": "R04DjwIMayMB"
   },
   "outputs": [
    {
     "name": "stdout",
     "output_type": "stream",
     "text": [
      "Logistic Regression Score unsing CountVectorizer : 0.5882706164931946\n"
     ]
    }
   ],
   "source": [
    "lr=LogisticRegression(penalty='l2',max_iter=500,C=1,random_state=42)\n",
    "lr_bow=lr.fit(x_train_vectorized,y_train)\n",
    "lr_bow_predict=lr.predict(x_test_vectorized)\n",
    "lr_bow_score=accuracy_score(y_test,lr_bow_predict)\n",
    "print(\"Logistic Regression Score unsing CountVectorizer :\",lr_bow_score)"
   ]
  },
  {
   "cell_type": "code",
   "execution_count": 93,
   "metadata": {},
   "outputs": [
    {
     "name": "stdout",
     "output_type": "stream",
     "text": [
      "Logistic Regression Score using TfidfVectorizer: 0.7327862289831866\n"
     ]
    }
   ],
   "source": [
    "lr=LogisticRegression(penalty='l2',max_iter=500,C=1,random_state=42)\n",
    "lr_bow=lr.fit(x_train_tv,y_train)\n",
    "lr_bow_predict=lr.predict(x_test_tv)\n",
    "lr_bow_score=accuracy_score(y_test,lr_bow_predict)\n",
    "print(\"Logistic Regression Score using TfidfVectorizer:\",lr_bow_score)"
   ]
  },
  {
   "cell_type": "code",
   "execution_count": 97,
   "metadata": {},
   "outputs": [
    {
     "name": "stdout",
     "output_type": "stream",
     "text": [
      "Decision Tree Score using CountVectorizer : 0.5076060848678943\n"
     ]
    }
   ],
   "source": [
    "dt=DecisionTreeClassifier(criterion='entropy', min_samples_split=4, min_samples_leaf=2, class_weight='balanced', max_depth=8) \n",
    "dt_bow=dt.fit(x_train_vectorized,y_train)\n",
    "dt_bow_predict=dt.predict(x_test_vectorized)\n",
    "dt_bow_score=accuracy_score(y_test,dt_bow_predict)\n",
    "print(\"Decision Tree Score using CountVectorizer :\",dt_bow_score)"
   ]
  },
  {
   "cell_type": "code",
   "execution_count": 98,
   "metadata": {},
   "outputs": [
    {
     "name": "stdout",
     "output_type": "stream",
     "text": [
      "Decision Tree Score using TfidfVectorizer : 0.5076060848678943\n"
     ]
    }
   ],
   "source": [
    "dt=DecisionTreeClassifier(criterion='entropy', min_samples_split=4, min_samples_leaf=2, class_weight='balanced', max_depth=8) \n",
    "dt_bow=dt.fit(x_train_tv,y_train)\n",
    "dt_bow_predict=dt.predict(x_test_tv)\n",
    "dt_bow_score=accuracy_score(y_test,dt_bow_predict)\n",
    "print(\"Decision Tree Score using TfidfVectorizer :\",dt_bow_score)"
   ]
  },
  {
   "cell_type": "code",
   "execution_count": 101,
   "metadata": {},
   "outputs": [
    {
     "name": "stdout",
     "output_type": "stream",
     "text": [
      "Random Forest Score using CountVectorizer : 0.5076060848678943\n"
     ]
    }
   ],
   "source": [
    "rf=RandomForestClassifier(n_estimators=50, n_jobs=-1)\n",
    "rf_bow=rf.fit(x_train_vectorized,y_train)\n",
    "rf_bow_predict=dt.predict(x_test_vectorized)\n",
    "rf_bow_score=accuracy_score(y_test,rf_bow_predict)\n",
    "print(\"Random Forest Score using CountVectorizer :\",rf_bow_score)"
   ]
  },
  {
   "cell_type": "code",
   "execution_count": null,
   "metadata": {},
   "outputs": [],
   "source": []
  }
 ],
 "metadata": {
  "colab": {
   "name": "IMBD Dataset SentimentIntensityAnalyzer.ipynb",
   "provenance": []
  },
  "kernelspec": {
   "display_name": "Python 3",
   "language": "python",
   "name": "python3"
  },
  "language_info": {
   "codemirror_mode": {
    "name": "ipython",
    "version": 3
   },
   "file_extension": ".py",
   "mimetype": "text/x-python",
   "name": "python",
   "nbconvert_exporter": "python",
   "pygments_lexer": "ipython3",
   "version": "3.8.5"
  }
 },
 "nbformat": 4,
 "nbformat_minor": 1
}
